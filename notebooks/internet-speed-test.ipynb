{
 "cells": [
  {
   "cell_type": "markdown",
   "metadata": {},
   "source": [
    "# Internet Speed Test\n",
    "\n",
    "Measure and report internet speed test using speedtest.net. Chart results over time.\n",
    "\n",
    "Used for sampling our overloaded internet during COVID-19 shutdowns.\n",
    "\n",
    "Requires the [speedtest-cli](https://github.com/sivel/speedtest-cli) package. The [derekwlms/jupyter-notebook](https://hub.docker.com/repository/docker/derekwlms/jupyter-notebook) docker image includes this."
   ]
  },
  {
   "cell_type": "code",
   "execution_count": 1,
   "metadata": {},
   "outputs": [],
   "source": [
    "import pandas as pd\n",
    "import speedtest\n",
    "from IPython.display import Image\n",
    "\n",
    "results = []"
   ]
  },
  {
   "cell_type": "code",
   "execution_count": 50,
   "metadata": {},
   "outputs": [],
   "source": [
    "def run_speed_test():\n",
    "    s = speedtest.Speedtest()\n",
    "    s.get_servers([])\n",
    "    s.get_best_server()\n",
    "    s.download(threads=None)\n",
    "    s.upload(threads=None)\n",
    "    return s"
   ]
  },
  {
   "cell_type": "code",
   "execution_count": 51,
   "metadata": {},
   "outputs": [
    {
     "data": {
      "text/plain": [
       "{'download': 41905048.424063,\n",
       " 'upload': 2283475.846160167,\n",
       " 'ping': 25.39,\n",
       " 'server': {'url': 'http://suw1sp1.qtsdatacenters.com:8080/speedtest/upload.php',\n",
       "  'lat': '34.0515',\n",
       "  'lon': '-84.0713',\n",
       "  'name': 'Suwanee, GA',\n",
       "  'country': 'United States',\n",
       "  'cc': 'US',\n",
       "  'sponsor': 'QTS Data Centers',\n",
       "  'id': '13220',\n",
       "  'host': 'suw1sp1.qtsdatacenters.com:8080',\n",
       "  'd': 62.955008112697634,\n",
       "  'latency': 25.39},\n",
       " 'timestamp': '2020-04-18T13:57:00.146047Z',\n",
       " 'bytes_sent': 4104192,\n",
       " 'bytes_received': 52626996,\n",
       " 'share': None,\n",
       " 'client': {'ip': '98.20.164.79',\n",
       "  'lat': '34.1683',\n",
       "  'lon': '-83.4022',\n",
       "  'isp': 'Windstream Communications',\n",
       "  'isprating': '3.7',\n",
       "  'rating': '0',\n",
       "  'ispdlavg': '0',\n",
       "  'ispulavg': '0',\n",
       "  'loggedin': '0',\n",
       "  'country': 'US'}}"
      ]
     },
     "execution_count": 51,
     "metadata": {},
     "output_type": "execute_result"
    }
   ],
   "source": [
    "# Run the speed test and add to the results. \n",
    "# Re-run this over time (can Run All Below the above cell)\n",
    "speed_test = run_speed_test()\n",
    "results_dict = speed_test.results.dict()\n",
    "results.append( { \"timestamp\": results_dict['timestamp'], \n",
    "                  \"download\": results_dict['download'] / 1024 / 1024, \n",
    "                  \"upload\": results_dict['upload'] / 1024 / 1024 } )\n",
    "results_dict"
   ]
  },
  {
   "cell_type": "code",
   "execution_count": 52,
   "metadata": {},
   "outputs": [
    {
     "data": {
      "text/html": [
       "<img src=\"http://www.speedtest.net/result/9301967188.png\"/>"
      ],
      "text/plain": [
       "<IPython.core.display.Image object>"
      ]
     },
     "execution_count": 52,
     "metadata": {},
     "output_type": "execute_result"
    }
   ],
   "source": [
    "# Show an image of the latest speed test\n",
    "results_image = speed_test.results.share()\n",
    "Image(url=results_image)"
   ]
  },
  {
   "cell_type": "code",
   "execution_count": 53,
   "metadata": {},
   "outputs": [
    {
     "data": {
      "text/html": [
       "<div>\n",
       "<style scoped>\n",
       "    .dataframe tbody tr th:only-of-type {\n",
       "        vertical-align: middle;\n",
       "    }\n",
       "\n",
       "    .dataframe tbody tr th {\n",
       "        vertical-align: top;\n",
       "    }\n",
       "\n",
       "    .dataframe thead th {\n",
       "        text-align: right;\n",
       "    }\n",
       "</style>\n",
       "<table border=\"1\" class=\"dataframe\">\n",
       "  <thead>\n",
       "    <tr style=\"text-align: right;\">\n",
       "      <th></th>\n",
       "      <th>timestamp</th>\n",
       "      <th>download</th>\n",
       "      <th>upload</th>\n",
       "    </tr>\n",
       "  </thead>\n",
       "  <tbody>\n",
       "    <tr>\n",
       "      <th>0</th>\n",
       "      <td>2020-04-18T13:30:34.358994Z</td>\n",
       "      <td>39.833856</td>\n",
       "      <td>2.081320</td>\n",
       "    </tr>\n",
       "    <tr>\n",
       "      <th>1</th>\n",
       "      <td>2020-04-18T13:31:47.875823Z</td>\n",
       "      <td>37.697151</td>\n",
       "      <td>2.610521</td>\n",
       "    </tr>\n",
       "    <tr>\n",
       "      <th>2</th>\n",
       "      <td>2020-04-18T13:32:50.414639Z</td>\n",
       "      <td>38.179496</td>\n",
       "      <td>2.164360</td>\n",
       "    </tr>\n",
       "    <tr>\n",
       "      <th>3</th>\n",
       "      <td>2020-04-18T13:33:38.487074Z</td>\n",
       "      <td>39.980631</td>\n",
       "      <td>2.061833</td>\n",
       "    </tr>\n",
       "    <tr>\n",
       "      <th>4</th>\n",
       "      <td>2020-04-18T13:35:35.891319Z</td>\n",
       "      <td>39.869553</td>\n",
       "      <td>2.191518</td>\n",
       "    </tr>\n",
       "    <tr>\n",
       "      <th>5</th>\n",
       "      <td>2020-04-18T13:36:55.613090Z</td>\n",
       "      <td>36.980460</td>\n",
       "      <td>2.466845</td>\n",
       "    </tr>\n",
       "    <tr>\n",
       "      <th>6</th>\n",
       "      <td>2020-04-18T13:42:41.475856Z</td>\n",
       "      <td>39.734542</td>\n",
       "      <td>2.123014</td>\n",
       "    </tr>\n",
       "    <tr>\n",
       "      <th>7</th>\n",
       "      <td>2020-04-18T13:43:36.804001Z</td>\n",
       "      <td>40.204244</td>\n",
       "      <td>2.357362</td>\n",
       "    </tr>\n",
       "    <tr>\n",
       "      <th>8</th>\n",
       "      <td>2020-04-18T13:44:48.881044Z</td>\n",
       "      <td>39.986973</td>\n",
       "      <td>1.980823</td>\n",
       "    </tr>\n",
       "    <tr>\n",
       "      <th>9</th>\n",
       "      <td>2020-04-18T13:49:05.446075Z</td>\n",
       "      <td>40.113069</td>\n",
       "      <td>2.316432</td>\n",
       "    </tr>\n",
       "    <tr>\n",
       "      <th>10</th>\n",
       "      <td>2020-04-18T13:54:47.750028Z</td>\n",
       "      <td>39.865663</td>\n",
       "      <td>2.285272</td>\n",
       "    </tr>\n",
       "    <tr>\n",
       "      <th>11</th>\n",
       "      <td>2020-04-18T13:55:59.936934Z</td>\n",
       "      <td>38.519465</td>\n",
       "      <td>2.288383</td>\n",
       "    </tr>\n",
       "    <tr>\n",
       "      <th>12</th>\n",
       "      <td>2020-04-18T13:57:00.146047Z</td>\n",
       "      <td>39.963768</td>\n",
       "      <td>2.177692</td>\n",
       "    </tr>\n",
       "  </tbody>\n",
       "</table>\n",
       "</div>"
      ],
      "text/plain": [
       "                      timestamp   download    upload\n",
       "0   2020-04-18T13:30:34.358994Z  39.833856  2.081320\n",
       "1   2020-04-18T13:31:47.875823Z  37.697151  2.610521\n",
       "2   2020-04-18T13:32:50.414639Z  38.179496  2.164360\n",
       "3   2020-04-18T13:33:38.487074Z  39.980631  2.061833\n",
       "4   2020-04-18T13:35:35.891319Z  39.869553  2.191518\n",
       "5   2020-04-18T13:36:55.613090Z  36.980460  2.466845\n",
       "6   2020-04-18T13:42:41.475856Z  39.734542  2.123014\n",
       "7   2020-04-18T13:43:36.804001Z  40.204244  2.357362\n",
       "8   2020-04-18T13:44:48.881044Z  39.986973  1.980823\n",
       "9   2020-04-18T13:49:05.446075Z  40.113069  2.316432\n",
       "10  2020-04-18T13:54:47.750028Z  39.865663  2.285272\n",
       "11  2020-04-18T13:55:59.936934Z  38.519465  2.288383\n",
       "12  2020-04-18T13:57:00.146047Z  39.963768  2.177692"
      ]
     },
     "execution_count": 53,
     "metadata": {},
     "output_type": "execute_result"
    },
    {
     "data": {
      "image/png": "[encoded data removed]",
      "text/plain": [
       "<Figure size 432x288 with 2 Axes>"
      ]
     },
     "metadata": {
      "needs_background": "light"
     },
     "output_type": "display_data"
    }
   ],
   "source": [
    "# Plot the history of results\n",
    "df = pd.DataFrame(results)\n",
    "axes = df.plot(y=['download', 'upload'], subplots=True, use_index=True, title='Transfer Speed (Mpbs)')\n",
    "df.head(15)"
   ]
  }
 ],
 "metadata": {
  "kernelspec": {
   "display_name": "Python 3",
   "language": "python",
   "name": "python3"
  },
  "language_info": {
   "codemirror_mode": {
    "name": "ipython",
    "version": 3
   },
   "file_extension": ".py",
   "mimetype": "text/x-python",
   "name": "python",
   "nbconvert_exporter": "python",
   "pygments_lexer": "ipython3",
   "version": "3.7.6"
  }
 },
 "nbformat": 4,
 "nbformat_minor": 4
}
