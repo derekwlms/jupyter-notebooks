{
 "cells": [
  {
   "cell_type": "markdown",
   "metadata": {},
   "source": [
    "# COVID-19 Charts\n",
    "\n",
    "Some charts and maps using COVID-19 data from public APIs.\n",
    "\n",
    "## Getting started\n",
    "\n",
    "- Get a Google Maps API Key; instructions [here](https://developers.google.com/maps/documentation/geocoding/get-api-key)."
   ]
  },
  {
   "cell_type": "code",
   "execution_count": 1,
   "metadata": {
    "scrolled": true
   },
   "outputs": [],
   "source": [
    "import gmaps\n",
    "import gmaps.datasets\n",
    "import json\n",
    "import pandas as pd\n",
    "import requests\n",
    "\n",
    "my_google_api_key = \"Your-API-Key-Here\"\n",
    "\n",
    "# !pip list"
   ]
  },
  {
   "cell_type": "code",
   "execution_count": 2,
   "metadata": {
    "scrolled": true
   },
   "outputs": [
    {
     "data": {
      "text/html": [
       "<div>\n",
       "<style scoped>\n",
       "    .dataframe tbody tr th:only-of-type {\n",
       "        vertical-align: middle;\n",
       "    }\n",
       "\n",
       "    .dataframe tbody tr th {\n",
       "        vertical-align: top;\n",
       "    }\n",
       "\n",
       "    .dataframe thead th {\n",
       "        text-align: right;\n",
       "    }\n",
       "</style>\n",
       "<table border=\"1\" class=\"dataframe\">\n",
       "  <thead>\n",
       "    <tr style=\"text-align: right;\">\n",
       "      <th></th>\n",
       "      <th>city_name</th>\n",
       "      <th>state_name</th>\n",
       "      <th>country_name</th>\n",
       "      <th>last_update</th>\n",
       "      <th>lat</th>\n",
       "      <th>long</th>\n",
       "      <th>total_cases</th>\n",
       "      <th>total_deaths</th>\n",
       "      <th>total_recovered</th>\n",
       "    </tr>\n",
       "  </thead>\n",
       "  <tbody>\n",
       "    <tr>\n",
       "      <th>0</th>\n",
       "      <td>Abbeville</td>\n",
       "      <td>South Carolina</td>\n",
       "      <td>US</td>\n",
       "      <td>2020-04-11 22:45:33</td>\n",
       "      <td>34.223334</td>\n",
       "      <td>-82.461707</td>\n",
       "      <td>9</td>\n",
       "      <td>0</td>\n",
       "      <td>0</td>\n",
       "    </tr>\n",
       "    <tr>\n",
       "      <th>1</th>\n",
       "      <td>Acadia</td>\n",
       "      <td>Louisiana</td>\n",
       "      <td>US</td>\n",
       "      <td>2020-04-11 22:45:33</td>\n",
       "      <td>30.295065</td>\n",
       "      <td>-92.414197</td>\n",
       "      <td>98</td>\n",
       "      <td>4</td>\n",
       "      <td>0</td>\n",
       "    </tr>\n",
       "    <tr>\n",
       "      <th>2</th>\n",
       "      <td>Accomack</td>\n",
       "      <td>Virginia</td>\n",
       "      <td>US</td>\n",
       "      <td>2020-04-11 22:45:33</td>\n",
       "      <td>37.767072</td>\n",
       "      <td>-75.632346</td>\n",
       "      <td>15</td>\n",
       "      <td>0</td>\n",
       "      <td>0</td>\n",
       "    </tr>\n",
       "    <tr>\n",
       "      <th>3</th>\n",
       "      <td>Ada</td>\n",
       "      <td>Idaho</td>\n",
       "      <td>US</td>\n",
       "      <td>2020-04-11 22:45:33</td>\n",
       "      <td>43.452658</td>\n",
       "      <td>-116.241552</td>\n",
       "      <td>513</td>\n",
       "      <td>6</td>\n",
       "      <td>0</td>\n",
       "    </tr>\n",
       "    <tr>\n",
       "      <th>4</th>\n",
       "      <td>Adair</td>\n",
       "      <td>Iowa</td>\n",
       "      <td>US</td>\n",
       "      <td>2020-04-11 22:45:33</td>\n",
       "      <td>41.330756</td>\n",
       "      <td>-94.471059</td>\n",
       "      <td>1</td>\n",
       "      <td>0</td>\n",
       "      <td>0</td>\n",
       "    </tr>\n",
       "  </tbody>\n",
       "</table>\n",
       "</div>"
      ],
      "text/plain": [
       "   city_name      state_name country_name          last_update        lat  \\\n",
       "0  Abbeville  South Carolina           US  2020-04-11 22:45:33  34.223334   \n",
       "1     Acadia       Louisiana           US  2020-04-11 22:45:33  30.295065   \n",
       "2   Accomack        Virginia           US  2020-04-11 22:45:33  37.767072   \n",
       "3        Ada           Idaho           US  2020-04-11 22:45:33  43.452658   \n",
       "4      Adair            Iowa           US  2020-04-11 22:45:33  41.330756   \n",
       "\n",
       "         long  total_cases  total_deaths  total_recovered  \n",
       "0  -82.461707            9             0                0  \n",
       "1  -92.414197           98             4                0  \n",
       "2  -75.632346           15             0                0  \n",
       "3 -116.241552          513             6                0  \n",
       "4  -94.471059            1             0                0  "
      ]
     },
     "execution_count": 2,
     "metadata": {},
     "output_type": "execute_result"
    }
   ],
   "source": [
    "# Fetch the hotspots (case counts by location) from CovidAPI (http://covidapi.com/)\n",
    "\n",
    "hotspots_json = requests.get(\"https://data.covidapi.com/hotspots\").json()\n",
    "hotspots_df = pd.DataFrame(hotspots_json['body'])\n",
    "hotspots_df.head()"
   ]
  },
  {
   "cell_type": "code",
   "execution_count": 3,
   "metadata": {},
   "outputs": [
    {
     "data": {
      "text/plain": [
       "(2907, 59)"
      ]
     },
     "execution_count": 3,
     "metadata": {},
     "output_type": "execute_result"
    }
   ],
   "source": [
    "# Filter out bad data, such as missing latitude and longitude\n",
    "\n",
    "hotspots_locations = []\n",
    "hotspots_weights = []\n",
    "bad_rows = []\n",
    "for index, row in hotspots_df.iterrows():\n",
    "    if row['lat'] == row['lat'] and row['long'] == row['long']:\n",
    "        hotspots_locations.append((row['lat'], row['long']))\n",
    "        hotspots_weights.append(row['total_cases'])\n",
    "    else:\n",
    "        bad_rows.append(row)\n",
    "(len(hotspots_locations), len(bad_rows))"
   ]
  },
  {
   "cell_type": "code",
   "execution_count": 4,
   "metadata": {
    "scrolled": true
   },
   "outputs": [
    {
     "data": {
      "application/vnd.jupyter.widget-view+json": {
       "model_id": "e8ef890c491043eb90bdfb29e42fca89",
       "version_major": 2,
       "version_minor": 0
      },
      "text/plain": [
       "Figure(layout=FigureLayout(height='420px'))"
      ]
     },
     "metadata": {},
     "output_type": "display_data"
    }
   ],
   "source": [
    "# Show hotspots as a Google Maps heatmap layer\n",
    "\n",
    "gmaps.configure(api_key=my_google_api_key)\n",
    "\n",
    "hotspots_map = gmaps.figure()\n",
    "heatmap_layer = gmaps.heatmap_layer(hotspots_locations, weights=hotspots_weights)\n",
    "hotspots_map.add_layer(heatmap_layer)\n",
    "hotspots_map"
   ]
  }
 ],
 "metadata": {
  "kernelspec": {
   "display_name": "Python 3",
   "language": "python",
   "name": "python3"
  },
  "language_info": {
   "codemirror_mode": {
    "name": "ipython",
    "version": 3
   },
   "file_extension": ".py",
   "mimetype": "text/x-python",
   "name": "python",
   "nbconvert_exporter": "python",
   "pygments_lexer": "ipython3",
   "version": "3.7.6"
  }
 },
 "nbformat": 4,
 "nbformat_minor": 4
}
