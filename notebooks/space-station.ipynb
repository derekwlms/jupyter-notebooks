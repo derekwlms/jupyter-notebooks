{
 "cells": [
  {
   "cell_type": "markdown",
   "metadata": {},
   "source": [
    "# International Space Station\n",
    "\n",
    "Quick notebook to map the current ISS location. Uses the [Open Notify API](http://open-notify.org/Open-Notify-API/ISS-Location-Now/).\n",
    "\n",
    "[Commemorating](https://apolloinrealtime.org/13/) today's 50th anniversary of the [Apollo 13](https://history.nasa.gov/SP-350/ch-13-1.html) incident and the [engineers](https://wehackthemoon.com/) who [overcame](https://github.com/chrislgarry/Apollo-11) it.\n",
    "\n",
    "For NASA's fancier version, see [this](https://spotthestation.nasa.gov/tracking_map.cfm).\n",
    "\n",
    "## Getting started\n",
    "\n",
    "- Get a Google Maps API Key; instructions [here](https://developers.google.com/maps/documentation/geocoding/get-api-key)."
   ]
  },
  {
   "cell_type": "code",
   "execution_count": 1,
   "metadata": {},
   "outputs": [],
   "source": [
    "import gmaps\n",
    "import gmaps.datasets\n",
    "import json\n",
    "import pandas as pd\n",
    "import requests\n",
    "\n",
    "my_google_api_key = \"Your-API-Key-Here\""
   ]
  },
  {
   "cell_type": "code",
   "execution_count": 2,
   "metadata": {},
   "outputs": [
    {
     "data": {
      "text/plain": [
       "{'latitude': '-33.3370', 'longitude': '-1.5180'}"
      ]
     },
     "execution_count": 2,
     "metadata": {},
     "output_type": "execute_result"
    }
   ],
   "source": [
    "iss_position = requests.get('http://api.open-notify.org/iss-now.json').json()['iss_position']\n",
    "iss_position"
   ]
  },
  {
   "cell_type": "code",
   "execution_count": 3,
   "metadata": {},
   "outputs": [
    {
     "data": {
      "application/vnd.jupyter.widget-view+json": {
       "model_id": "361dcff66d344659806077c92b67ad77",
       "version_major": 2,
       "version_minor": 0
      },
      "text/plain": [
       "Figure(layout=FigureLayout(height='420px'))"
      ]
     },
     "metadata": {},
     "output_type": "display_data"
    }
   ],
   "source": [
    "gmaps.configure(api_key=my_google_api_key)\n",
    "marker_location = (float(iss_position['latitude']), float(iss_position['longitude']))\n",
    "fig = gmaps.figure(zoom_level=1, center=marker_location)\n",
    "marker_layer = gmaps.marker_layer([marker_location])\n",
    "fig.add_layer(marker_layer)\n",
    "fig"
   ]
  }
 ],
 "metadata": {
  "kernelspec": {
   "display_name": "Python 3",
   "language": "python",
   "name": "python3"
  },
  "language_info": {
   "codemirror_mode": {
    "name": "ipython",
    "version": 3
   },
   "file_extension": ".py",
   "mimetype": "text/x-python",
   "name": "python",
   "nbconvert_exporter": "python",
   "pygments_lexer": "ipython3",
   "version": "3.7.6"
  }
 },
 "nbformat": 4,
 "nbformat_minor": 4
}
