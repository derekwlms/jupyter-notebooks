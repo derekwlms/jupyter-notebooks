{
 "cells": [
  {
   "cell_type": "markdown",
   "metadata": {},
   "source": [
    "# Internet Speed Test\n",
    "\n",
    "Measure and report internet speed test using speedtest.net. Chart results over time.\n",
    "\n",
    "Used for sampling our overloaded internet during COVID-19 shutdowns.\n",
    "\n",
    "Requires the [speedtest-cli](https://github.com/sivel/speedtest-cli) package. The [derekwlms/jupyter-notebook](https://hub.docker.com/repository/docker/derekwlms/jupyter-notebook) docker image includes this."
   ]
  },
  {
   "cell_type": "code",
   "execution_count": 1,
   "metadata": {},
   "outputs": [],
   "source": [
    "import pandas as pd\n",
    "import speedtest\n",
    "from IPython.display import Image\n",
    "\n",
    "servers = []\n",
    "threads = None\n",
    "results = []"
   ]
  },
  {
   "cell_type": "code",
   "execution_count": 2,
   "metadata": {},
   "outputs": [
    {
     "data": {
      "text/plain": [
       "{'url': 'http://speedtest.rd.at.cox.net:8080/speedtest/upload.php',\n",
       " 'lat': '34.0754',\n",
       " 'lon': '-84.2941',\n",
       " 'name': 'Alpharetta, GA',\n",
       " 'country': 'United States',\n",
       " 'cc': 'US',\n",
       " 'sponsor': 'Cox - Atlanta',\n",
       " 'id': '16611',\n",
       " 'host': 'speedtest.rd.at.cox.net:8080',\n",
       " 'd': 54.290775175552795,\n",
       " 'latency': 24.0}"
      ]
     },
     "execution_count": 2,
     "metadata": {},
     "output_type": "execute_result"
    }
   ],
   "source": [
    "s = speedtest.Speedtest()\n",
    "s.get_servers(servers)\n",
    "s.get_best_server()"
   ]
  },
  {
   "cell_type": "code",
   "execution_count": 3,
   "metadata": {},
   "outputs": [
    {
     "data": {
      "text/plain": [
       "41760425.05840292"
      ]
     },
     "execution_count": 3,
     "metadata": {},
     "output_type": "execute_result"
    }
   ],
   "source": [
    "s.download(threads=threads)"
   ]
  },
  {
   "cell_type": "code",
   "execution_count": 4,
   "metadata": {},
   "outputs": [
    {
     "data": {
      "text/plain": [
       "2377525.146873303"
      ]
     },
     "execution_count": 4,
     "metadata": {},
     "output_type": "execute_result"
    }
   ],
   "source": [
    "s.upload(threads=threads)"
   ]
  },
  {
   "cell_type": "code",
   "execution_count": 5,
   "metadata": {},
   "outputs": [
    {
     "data": {
      "text/html": [
       "<img src=\"http://www.speedtest.net/result/9289724901.png\"/>"
      ],
      "text/plain": [
       "<IPython.core.display.Image object>"
      ]
     },
     "execution_count": 5,
     "metadata": {},
     "output_type": "execute_result"
    }
   ],
   "source": [
    "results_image = s.results.share()\n",
    "Image(url=results_image)"
   ]
  },
  {
   "cell_type": "code",
   "execution_count": 6,
   "metadata": {},
   "outputs": [
    {
     "data": {
      "text/plain": [
       "{'download': 41760425.05840292,\n",
       " 'upload': 2377525.146873303,\n",
       " 'ping': 24.0,\n",
       " 'server': {'url': 'http://speedtest.rd.at.cox.net:8080/speedtest/upload.php',\n",
       "  'lat': '34.0754',\n",
       "  'lon': '-84.2941',\n",
       "  'name': 'Alpharetta, GA',\n",
       "  'country': 'United States',\n",
       "  'cc': 'US',\n",
       "  'sponsor': 'Cox - Atlanta',\n",
       "  'id': '16611',\n",
       "  'host': 'speedtest.rd.at.cox.net:8080',\n",
       "  'd': 54.290775175552795,\n",
       "  'latency': 24.0},\n",
       " 'timestamp': '2020-04-16T02:38:01.209169Z',\n",
       " 'bytes_sent': 4145152,\n",
       " 'bytes_received': 52370996,\n",
       " 'share': 'http://www.speedtest.net/result/9289724901.png',\n",
       " 'client': {'ip': '98.20.164.79',\n",
       "  'lat': '33.9978',\n",
       "  'lon': '-83.7124',\n",
       "  'isp': 'Windstream Communications',\n",
       "  'isprating': '3.7',\n",
       "  'rating': '0',\n",
       "  'ispdlavg': '0',\n",
       "  'ispulavg': '0',\n",
       "  'loggedin': '0',\n",
       "  'country': 'US'}}"
      ]
     },
     "execution_count": 6,
     "metadata": {},
     "output_type": "execute_result"
    }
   ],
   "source": [
    "results_dict = s.results.dict()\n",
    "results_dict"
   ]
  },
  {
   "cell_type": "code",
   "execution_count": 7,
   "metadata": {},
   "outputs": [],
   "source": [
    "results.append( { \"timestamp\": results_dict['timestamp'], \n",
    "                  \"download\": results_dict['download'], \n",
    "                  \"upload\": results_dict['upload'] } )"
   ]
  },
  {
   "cell_type": "code",
   "execution_count": 8,
   "metadata": {},
   "outputs": [
    {
     "data": {
      "text/html": [
       "<div>\n",
       "<style scoped>\n",
       "    .dataframe tbody tr th:only-of-type {\n",
       "        vertical-align: middle;\n",
       "    }\n",
       "\n",
       "    .dataframe tbody tr th {\n",
       "        vertical-align: top;\n",
       "    }\n",
       "\n",
       "    .dataframe thead th {\n",
       "        text-align: right;\n",
       "    }\n",
       "</style>\n",
       "<table border=\"1\" class=\"dataframe\">\n",
       "  <thead>\n",
       "    <tr style=\"text-align: right;\">\n",
       "      <th></th>\n",
       "      <th>timestamp</th>\n",
       "      <th>download</th>\n",
       "      <th>upload</th>\n",
       "    </tr>\n",
       "  </thead>\n",
       "  <tbody>\n",
       "    <tr>\n",
       "      <th>0</th>\n",
       "      <td>2020-04-16T02:38:01.209169Z</td>\n",
       "      <td>4.176043e+07</td>\n",
       "      <td>2.377525e+06</td>\n",
       "    </tr>\n",
       "  </tbody>\n",
       "</table>\n",
       "</div>"
      ],
      "text/plain": [
       "                     timestamp      download        upload\n",
       "0  2020-04-16T02:38:01.209169Z  4.176043e+07  2.377525e+06"
      ]
     },
     "execution_count": 8,
     "metadata": {},
     "output_type": "execute_result"
    }
   ],
   "source": [
    "df = pd.DataFrame(results)\n",
    "df.head()"
   ]
  },
  {
   "cell_type": "code",
   "execution_count": 9,
   "metadata": {},
   "outputs": [
    {
     "data": {
      "text/plain": [
       "<matplotlib.axes._subplots.AxesSubplot at 0x7fa3247da990>"
      ]
     },
     "execution_count": 9,
     "metadata": {},
     "output_type": "execute_result"
    },
    {
     "data": {
      "image/png": "[encoded data removed]",
      "text/plain": [
       "<Figure size 432x288 with 1 Axes>"
      ]
     },
     "metadata": {
      "needs_background": "light"
     },
     "output_type": "display_data"
    },
    {
     "data": {
      "image/png": "[encoded data removed]",
      "text/plain": [
       "<Figure size 432x288 with 1 Axes>"
      ]
     },
     "metadata": {
      "needs_background": "light"
     },
     "output_type": "display_data"
    }
   ],
   "source": [
    "df.plot(x='timestamp', y='download')\n",
    "df.plot(x='timestamp', y='upload')"
   ]
  }
 ],
 "metadata": {
  "kernelspec": {
   "display_name": "Python 3",
   "language": "python",
   "name": "python3"
  },
  "language_info": {
   "codemirror_mode": {
    "name": "ipython",
    "version": 3
   },
   "file_extension": ".py",
   "mimetype": "text/x-python",
   "name": "python",
   "nbconvert_exporter": "python",
   "pygments_lexer": "ipython3",
   "version": "3.7.6"
  }
 },
 "nbformat": 4,
 "nbformat_minor": 4
}
